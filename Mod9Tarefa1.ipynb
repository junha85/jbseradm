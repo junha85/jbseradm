{
 "cells": [
  {
   "cell_type": "markdown",
   "metadata": {},
   "source": [
    "# Livro para consulta:\n",
    "- https://jakevdp.github.io/PythonDataScienceHandbook/03.08-aggregation-and-grouping.html\n",
    "- https://jakevdp.github.io/PythonDataScienceHandbook/03.09-pivot-tables.html\n",
    "    "
   ]
  },
  {
   "cell_type": "markdown",
   "metadata": {},
   "source": [
    "# 1. Importando bibliotecas <a name=\"import\"></a>\n",
    "\n",
    "<div style=\"text-align: right\"\n",
    "     \n",
    "[Voltar ao índice](#Contents)"
   ]
  },
  {
   "cell_type": "code",
   "execution_count": 1,
   "metadata": {
    "ExecuteTime": {
     "end_time": "2021-06-06T21:12:37.298706Z",
     "start_time": "2021-06-06T21:12:36.656481Z"
    }
   },
   "outputs": [],
   "source": [
    "import numpy as np\n",
    "import pandas as pd\n",
    "import seaborn as sns\n",
    "import matplotlib.pyplot as plt\n",
    "\n",
    "%matplotlib inline"
   ]
  },
  {
   "cell_type": "code",
   "execution_count": null,
   "metadata": {},
   "outputs": [],
   "source": []
  },
  {
   "cell_type": "markdown",
   "metadata": {},
   "source": [
    "# 2. Carregando o dataframe SINASC <a name=\"read\"></a>\n",
    "<div style=\"text-align: right\"\n",
    "     \n",
    "[Voltar ao índice](#Contents)"
   ]
  },
  {
   "cell_type": "code",
   "execution_count": 2,
   "metadata": {
    "ExecuteTime": {
     "end_time": "2021-06-06T21:12:37.762376Z",
     "start_time": "2021-06-06T21:12:37.728383Z"
    },
    "scrolled": true
   },
   "outputs": [
    {
     "data": {
      "text/html": [
       "<div>\n",
       "<style scoped>\n",
       "    .dataframe tbody tr th:only-of-type {\n",
       "        vertical-align: middle;\n",
       "    }\n",
       "\n",
       "    .dataframe tbody tr th {\n",
       "        vertical-align: top;\n",
       "    }\n",
       "\n",
       "    .dataframe thead th {\n",
       "        text-align: right;\n",
       "    }\n",
       "</style>\n",
       "<table border=\"1\" class=\"dataframe\">\n",
       "  <thead>\n",
       "    <tr style=\"text-align: right;\">\n",
       "      <th></th>\n",
       "      <th>ORIGEM</th>\n",
       "      <th>CODESTAB</th>\n",
       "      <th>CODMUNNASC</th>\n",
       "      <th>LOCNASC</th>\n",
       "      <th>IDADEMAE</th>\n",
       "      <th>ESTCIVMAE</th>\n",
       "      <th>ESCMAE</th>\n",
       "      <th>CODOCUPMAE</th>\n",
       "      <th>QTDFILVIVO</th>\n",
       "      <th>QTDFILMORT</th>\n",
       "      <th>...</th>\n",
       "      <th>KOTELCHUCK</th>\n",
       "      <th>CONTADOR</th>\n",
       "      <th>munResStatus</th>\n",
       "      <th>munResTipo</th>\n",
       "      <th>munResNome</th>\n",
       "      <th>munResUf</th>\n",
       "      <th>munResLat</th>\n",
       "      <th>munResLon</th>\n",
       "      <th>munResAlt</th>\n",
       "      <th>munResArea</th>\n",
       "    </tr>\n",
       "  </thead>\n",
       "  <tbody>\n",
       "    <tr>\n",
       "      <th>0</th>\n",
       "      <td>1</td>\n",
       "      <td>2679477.0</td>\n",
       "      <td>110001</td>\n",
       "      <td>1</td>\n",
       "      <td>19</td>\n",
       "      <td>5.0</td>\n",
       "      <td>8 a 11 anos</td>\n",
       "      <td>NaN</td>\n",
       "      <td>0.0</td>\n",
       "      <td>0.0</td>\n",
       "      <td>...</td>\n",
       "      <td>5</td>\n",
       "      <td>1</td>\n",
       "      <td>ATIVO</td>\n",
       "      <td>MUNIC</td>\n",
       "      <td>Alta Floresta D'Oeste</td>\n",
       "      <td>Rondônia</td>\n",
       "      <td>-11.93554</td>\n",
       "      <td>-61.99982</td>\n",
       "      <td>338.0</td>\n",
       "      <td>7067.025</td>\n",
       "    </tr>\n",
       "    <tr>\n",
       "      <th>1</th>\n",
       "      <td>1</td>\n",
       "      <td>2679477.0</td>\n",
       "      <td>110001</td>\n",
       "      <td>1</td>\n",
       "      <td>29</td>\n",
       "      <td>2.0</td>\n",
       "      <td>8 a 11 anos</td>\n",
       "      <td>999992.0</td>\n",
       "      <td>1.0</td>\n",
       "      <td>0.0</td>\n",
       "      <td>...</td>\n",
       "      <td>5</td>\n",
       "      <td>2</td>\n",
       "      <td>ATIVO</td>\n",
       "      <td>MUNIC</td>\n",
       "      <td>Alta Floresta D'Oeste</td>\n",
       "      <td>Rondônia</td>\n",
       "      <td>-11.93554</td>\n",
       "      <td>-61.99982</td>\n",
       "      <td>338.0</td>\n",
       "      <td>7067.025</td>\n",
       "    </tr>\n",
       "    <tr>\n",
       "      <th>2</th>\n",
       "      <td>1</td>\n",
       "      <td>2679477.0</td>\n",
       "      <td>110001</td>\n",
       "      <td>1</td>\n",
       "      <td>37</td>\n",
       "      <td>9.0</td>\n",
       "      <td>8 a 11 anos</td>\n",
       "      <td>513205.0</td>\n",
       "      <td>2.0</td>\n",
       "      <td>0.0</td>\n",
       "      <td>...</td>\n",
       "      <td>5</td>\n",
       "      <td>3</td>\n",
       "      <td>ATIVO</td>\n",
       "      <td>MUNIC</td>\n",
       "      <td>Alta Floresta D'Oeste</td>\n",
       "      <td>Rondônia</td>\n",
       "      <td>-11.93554</td>\n",
       "      <td>-61.99982</td>\n",
       "      <td>338.0</td>\n",
       "      <td>7067.025</td>\n",
       "    </tr>\n",
       "    <tr>\n",
       "      <th>3</th>\n",
       "      <td>1</td>\n",
       "      <td>2516500.0</td>\n",
       "      <td>110001</td>\n",
       "      <td>1</td>\n",
       "      <td>30</td>\n",
       "      <td>5.0</td>\n",
       "      <td>12 anos ou mais</td>\n",
       "      <td>231205.0</td>\n",
       "      <td>0.0</td>\n",
       "      <td>0.0</td>\n",
       "      <td>...</td>\n",
       "      <td>4</td>\n",
       "      <td>4</td>\n",
       "      <td>ATIVO</td>\n",
       "      <td>MUNIC</td>\n",
       "      <td>Alto Alegre dos Parecis</td>\n",
       "      <td>Rondônia</td>\n",
       "      <td>-12.13178</td>\n",
       "      <td>-61.85308</td>\n",
       "      <td>397.0</td>\n",
       "      <td>3958.273</td>\n",
       "    </tr>\n",
       "    <tr>\n",
       "      <th>4</th>\n",
       "      <td>1</td>\n",
       "      <td>2516500.0</td>\n",
       "      <td>110001</td>\n",
       "      <td>1</td>\n",
       "      <td>30</td>\n",
       "      <td>2.0</td>\n",
       "      <td>8 a 11 anos</td>\n",
       "      <td>999992.0</td>\n",
       "      <td>1.0</td>\n",
       "      <td>0.0</td>\n",
       "      <td>...</td>\n",
       "      <td>5</td>\n",
       "      <td>5</td>\n",
       "      <td>ATIVO</td>\n",
       "      <td>MUNIC</td>\n",
       "      <td>Alta Floresta D'Oeste</td>\n",
       "      <td>Rondônia</td>\n",
       "      <td>-11.93554</td>\n",
       "      <td>-61.99982</td>\n",
       "      <td>338.0</td>\n",
       "      <td>7067.025</td>\n",
       "    </tr>\n",
       "  </tbody>\n",
       "</table>\n",
       "<p>5 rows × 69 columns</p>\n",
       "</div>"
      ],
      "text/plain": [
       "   ORIGEM   CODESTAB  CODMUNNASC  LOCNASC  IDADEMAE  ESTCIVMAE  \\\n",
       "0       1  2679477.0      110001        1        19        5.0   \n",
       "1       1  2679477.0      110001        1        29        2.0   \n",
       "2       1  2679477.0      110001        1        37        9.0   \n",
       "3       1  2516500.0      110001        1        30        5.0   \n",
       "4       1  2516500.0      110001        1        30        2.0   \n",
       "\n",
       "            ESCMAE  CODOCUPMAE  QTDFILVIVO  QTDFILMORT  ...  KOTELCHUCK  \\\n",
       "0      8 a 11 anos         NaN         0.0         0.0  ...           5   \n",
       "1      8 a 11 anos    999992.0         1.0         0.0  ...           5   \n",
       "2      8 a 11 anos    513205.0         2.0         0.0  ...           5   \n",
       "3  12 anos ou mais    231205.0         0.0         0.0  ...           4   \n",
       "4      8 a 11 anos    999992.0         1.0         0.0  ...           5   \n",
       "\n",
       "  CONTADOR munResStatus munResTipo               munResNome  munResUf  \\\n",
       "0        1        ATIVO      MUNIC    Alta Floresta D'Oeste  Rondônia   \n",
       "1        2        ATIVO      MUNIC    Alta Floresta D'Oeste  Rondônia   \n",
       "2        3        ATIVO      MUNIC    Alta Floresta D'Oeste  Rondônia   \n",
       "3        4        ATIVO      MUNIC  Alto Alegre dos Parecis  Rondônia   \n",
       "4        5        ATIVO      MUNIC    Alta Floresta D'Oeste  Rondônia   \n",
       "\n",
       "   munResLat munResLon  munResAlt  munResArea  \n",
       "0  -11.93554 -61.99982      338.0    7067.025  \n",
       "1  -11.93554 -61.99982      338.0    7067.025  \n",
       "2  -11.93554 -61.99982      338.0    7067.025  \n",
       "3  -12.13178 -61.85308      397.0    3958.273  \n",
       "4  -11.93554 -61.99982      338.0    7067.025  \n",
       "\n",
       "[5 rows x 69 columns]"
      ]
     },
     "execution_count": 2,
     "metadata": {},
     "output_type": "execute_result"
    }
   ],
   "source": [
    "sinasc_raw = pd.read_csv('SINASC_RO_2019.csv')\n",
    "sinasc_raw.head()"
   ]
  },
  {
   "cell_type": "code",
   "execution_count": 3,
   "metadata": {},
   "outputs": [
    {
     "data": {
      "text/plain": [
       "ORIGEM          0\n",
       "CODESTAB      115\n",
       "CODMUNNASC      0\n",
       "LOCNASC         0\n",
       "IDADEMAE        0\n",
       "             ... \n",
       "munResUf        0\n",
       "munResLat       1\n",
       "munResLon       1\n",
       "munResAlt       1\n",
       "munResArea      1\n",
       "Length: 69, dtype: int64"
      ]
     },
     "execution_count": 3,
     "metadata": {},
     "output_type": "execute_result"
    }
   ],
   "source": [
    "sinasc_2.dropna().groupby('ESCMAE').median()"
   ]
  },
  {
   "cell_type": "code",
   "execution_count": null,
   "metadata": {},
   "outputs": [],
   "source": []
  },
  {
   "cell_type": "markdown",
   "metadata": {},
   "source": [
    "# Tarefa 1"
   ]
  },
  {
   "cell_type": "markdown",
   "metadata": {},
   "source": [
    "### 1. Idade media das mães e dos pais por município (coluna munResNome)\n"
   ]
  },
  {
   "cell_type": "code",
   "execution_count": 9,
   "metadata": {},
   "outputs": [
    {
     "data": {
      "text/html": [
       "<div>\n",
       "<style scoped>\n",
       "    .dataframe tbody tr th:only-of-type {\n",
       "        vertical-align: middle;\n",
       "    }\n",
       "\n",
       "    .dataframe tbody tr th {\n",
       "        vertical-align: top;\n",
       "    }\n",
       "\n",
       "    .dataframe thead th {\n",
       "        text-align: right;\n",
       "    }\n",
       "</style>\n",
       "<table border=\"1\" class=\"dataframe\">\n",
       "  <thead>\n",
       "    <tr style=\"text-align: right;\">\n",
       "      <th></th>\n",
       "      <th>IDADEPAI</th>\n",
       "      <th>IDADEMAE</th>\n",
       "    </tr>\n",
       "    <tr>\n",
       "      <th>munResNome</th>\n",
       "      <th></th>\n",
       "      <th></th>\n",
       "    </tr>\n",
       "  </thead>\n",
       "  <tbody>\n",
       "    <tr>\n",
       "      <th>Alta Floresta D'Oeste</th>\n",
       "      <td>29.548701</td>\n",
       "      <td>25.892857</td>\n",
       "    </tr>\n",
       "    <tr>\n",
       "      <th>Alto Alegre dos Parecis</th>\n",
       "      <td>29.179104</td>\n",
       "      <td>24.679104</td>\n",
       "    </tr>\n",
       "    <tr>\n",
       "      <th>Alto Paraíso</th>\n",
       "      <td>28.833333</td>\n",
       "      <td>22.833333</td>\n",
       "    </tr>\n",
       "    <tr>\n",
       "      <th>Alvorada D'Oeste</th>\n",
       "      <td>30.757282</td>\n",
       "      <td>26.825243</td>\n",
       "    </tr>\n",
       "    <tr>\n",
       "      <th>Ariquemes</th>\n",
       "      <td>32.466667</td>\n",
       "      <td>28.133333</td>\n",
       "    </tr>\n",
       "    <tr>\n",
       "      <th>Buritis</th>\n",
       "      <td>30.812500</td>\n",
       "      <td>24.750000</td>\n",
       "    </tr>\n",
       "    <tr>\n",
       "      <th>Cabixi</th>\n",
       "      <td>34.333333</td>\n",
       "      <td>32.166667</td>\n",
       "    </tr>\n",
       "    <tr>\n",
       "      <th>Cacaulândia</th>\n",
       "      <td>36.333333</td>\n",
       "      <td>31.000000</td>\n",
       "    </tr>\n",
       "    <tr>\n",
       "      <th>Cacoal</th>\n",
       "      <td>30.931854</td>\n",
       "      <td>26.978605</td>\n",
       "    </tr>\n",
       "    <tr>\n",
       "      <th>Campo Novo de Rondônia</th>\n",
       "      <td>30.500000</td>\n",
       "      <td>24.900000</td>\n",
       "    </tr>\n",
       "    <tr>\n",
       "      <th>Candeias do Jamari</th>\n",
       "      <td>29.894737</td>\n",
       "      <td>23.684211</td>\n",
       "    </tr>\n",
       "    <tr>\n",
       "      <th>Castanheiras</th>\n",
       "      <td>30.392857</td>\n",
       "      <td>28.071429</td>\n",
       "    </tr>\n",
       "    <tr>\n",
       "      <th>Cerejeiras</th>\n",
       "      <td>31.652778</td>\n",
       "      <td>28.361111</td>\n",
       "    </tr>\n",
       "    <tr>\n",
       "      <th>Chupinguaia</th>\n",
       "      <td>29.629630</td>\n",
       "      <td>26.888889</td>\n",
       "    </tr>\n",
       "    <tr>\n",
       "      <th>Colorado do Oeste</th>\n",
       "      <td>34.354839</td>\n",
       "      <td>31.161290</td>\n",
       "    </tr>\n",
       "    <tr>\n",
       "      <th>Corumbiara</th>\n",
       "      <td>32.470588</td>\n",
       "      <td>29.000000</td>\n",
       "    </tr>\n",
       "    <tr>\n",
       "      <th>Costa Marques</th>\n",
       "      <td>30.613636</td>\n",
       "      <td>25.250000</td>\n",
       "    </tr>\n",
       "    <tr>\n",
       "      <th>Cujubim</th>\n",
       "      <td>31.400000</td>\n",
       "      <td>27.400000</td>\n",
       "    </tr>\n",
       "    <tr>\n",
       "      <th>Espigão D'Oeste</th>\n",
       "      <td>31.198113</td>\n",
       "      <td>26.808176</td>\n",
       "    </tr>\n",
       "    <tr>\n",
       "      <th>Governador Jorge Teixeira</th>\n",
       "      <td>29.222222</td>\n",
       "      <td>25.555556</td>\n",
       "    </tr>\n",
       "    <tr>\n",
       "      <th>Guajará-Mirim</th>\n",
       "      <td>30.470588</td>\n",
       "      <td>26.058824</td>\n",
       "    </tr>\n",
       "    <tr>\n",
       "      <th>Itapuã do Oeste</th>\n",
       "      <td>42.500000</td>\n",
       "      <td>31.375000</td>\n",
       "    </tr>\n",
       "    <tr>\n",
       "      <th>Jaru</th>\n",
       "      <td>32.197183</td>\n",
       "      <td>28.450704</td>\n",
       "    </tr>\n",
       "    <tr>\n",
       "      <th>Ji-Paraná</th>\n",
       "      <td>31.132239</td>\n",
       "      <td>27.282819</td>\n",
       "    </tr>\n",
       "    <tr>\n",
       "      <th>Machadinho D'Oeste</th>\n",
       "      <td>31.326923</td>\n",
       "      <td>26.048077</td>\n",
       "    </tr>\n",
       "    <tr>\n",
       "      <th>Ministro Andreazza</th>\n",
       "      <td>33.849315</td>\n",
       "      <td>27.890411</td>\n",
       "    </tr>\n",
       "    <tr>\n",
       "      <th>Mirante da Serra</th>\n",
       "      <td>32.154762</td>\n",
       "      <td>26.928571</td>\n",
       "    </tr>\n",
       "    <tr>\n",
       "      <th>Monte Negro</th>\n",
       "      <td>34.678571</td>\n",
       "      <td>27.642857</td>\n",
       "    </tr>\n",
       "    <tr>\n",
       "      <th>Município ignorado - RO</th>\n",
       "      <td>22.000000</td>\n",
       "      <td>24.000000</td>\n",
       "    </tr>\n",
       "    <tr>\n",
       "      <th>Nova Brasilândia D'Oeste</th>\n",
       "      <td>30.520833</td>\n",
       "      <td>27.104167</td>\n",
       "    </tr>\n",
       "    <tr>\n",
       "      <th>Nova Mamoré</th>\n",
       "      <td>31.692308</td>\n",
       "      <td>26.051282</td>\n",
       "    </tr>\n",
       "    <tr>\n",
       "      <th>Nova União</th>\n",
       "      <td>31.371429</td>\n",
       "      <td>27.371429</td>\n",
       "    </tr>\n",
       "    <tr>\n",
       "      <th>Novo Horizonte do Oeste</th>\n",
       "      <td>31.588235</td>\n",
       "      <td>26.988235</td>\n",
       "    </tr>\n",
       "    <tr>\n",
       "      <th>Ouro Preto do Oeste</th>\n",
       "      <td>31.233244</td>\n",
       "      <td>27.109920</td>\n",
       "    </tr>\n",
       "    <tr>\n",
       "      <th>Parecis</th>\n",
       "      <td>32.473684</td>\n",
       "      <td>26.973684</td>\n",
       "    </tr>\n",
       "    <tr>\n",
       "      <th>Pimenta Bueno</th>\n",
       "      <td>29.745174</td>\n",
       "      <td>25.449807</td>\n",
       "    </tr>\n",
       "    <tr>\n",
       "      <th>Pimenteiras do Oeste</th>\n",
       "      <td>35.600000</td>\n",
       "      <td>32.600000</td>\n",
       "    </tr>\n",
       "    <tr>\n",
       "      <th>Porto Velho</th>\n",
       "      <td>32.352679</td>\n",
       "      <td>28.355655</td>\n",
       "    </tr>\n",
       "    <tr>\n",
       "      <th>Presidente Médici</th>\n",
       "      <td>30.150754</td>\n",
       "      <td>26.170854</td>\n",
       "    </tr>\n",
       "    <tr>\n",
       "      <th>Primavera de Rondônia</th>\n",
       "      <td>31.888889</td>\n",
       "      <td>28.083333</td>\n",
       "    </tr>\n",
       "    <tr>\n",
       "      <th>Rio Crespo</th>\n",
       "      <td>28.000000</td>\n",
       "      <td>26.000000</td>\n",
       "    </tr>\n",
       "    <tr>\n",
       "      <th>Rolim de Moura</th>\n",
       "      <td>30.360479</td>\n",
       "      <td>26.549701</td>\n",
       "    </tr>\n",
       "    <tr>\n",
       "      <th>Santa Luzia D'Oeste</th>\n",
       "      <td>30.703297</td>\n",
       "      <td>26.043956</td>\n",
       "    </tr>\n",
       "    <tr>\n",
       "      <th>Seringueiras</th>\n",
       "      <td>30.500000</td>\n",
       "      <td>25.058824</td>\n",
       "    </tr>\n",
       "    <tr>\n",
       "      <th>São Felipe D'Oeste</th>\n",
       "      <td>31.395833</td>\n",
       "      <td>26.979167</td>\n",
       "    </tr>\n",
       "    <tr>\n",
       "      <th>São Francisco do Guaporé</th>\n",
       "      <td>31.638889</td>\n",
       "      <td>26.944444</td>\n",
       "    </tr>\n",
       "    <tr>\n",
       "      <th>São Miguel do Guaporé</th>\n",
       "      <td>32.666667</td>\n",
       "      <td>27.469136</td>\n",
       "    </tr>\n",
       "    <tr>\n",
       "      <th>Teixeirópolis</th>\n",
       "      <td>31.500000</td>\n",
       "      <td>27.454545</td>\n",
       "    </tr>\n",
       "    <tr>\n",
       "      <th>Theobroma</th>\n",
       "      <td>30.083333</td>\n",
       "      <td>24.916667</td>\n",
       "    </tr>\n",
       "    <tr>\n",
       "      <th>Urupá</th>\n",
       "      <td>31.008929</td>\n",
       "      <td>27.116071</td>\n",
       "    </tr>\n",
       "    <tr>\n",
       "      <th>Vale do Anari</th>\n",
       "      <td>34.000000</td>\n",
       "      <td>27.133333</td>\n",
       "    </tr>\n",
       "    <tr>\n",
       "      <th>Vale do Paraíso</th>\n",
       "      <td>29.976744</td>\n",
       "      <td>25.604651</td>\n",
       "    </tr>\n",
       "    <tr>\n",
       "      <th>Vilhena</th>\n",
       "      <td>34.152941</td>\n",
       "      <td>30.611765</td>\n",
       "    </tr>\n",
       "  </tbody>\n",
       "</table>\n",
       "</div>"
      ],
      "text/plain": [
       "                            IDADEPAI   IDADEMAE\n",
       "munResNome                                     \n",
       "Alta Floresta D'Oeste      29.548701  25.892857\n",
       "Alto Alegre dos Parecis    29.179104  24.679104\n",
       "Alto Paraíso               28.833333  22.833333\n",
       "Alvorada D'Oeste           30.757282  26.825243\n",
       "Ariquemes                  32.466667  28.133333\n",
       "Buritis                    30.812500  24.750000\n",
       "Cabixi                     34.333333  32.166667\n",
       "Cacaulândia                36.333333  31.000000\n",
       "Cacoal                     30.931854  26.978605\n",
       "Campo Novo de Rondônia     30.500000  24.900000\n",
       "Candeias do Jamari         29.894737  23.684211\n",
       "Castanheiras               30.392857  28.071429\n",
       "Cerejeiras                 31.652778  28.361111\n",
       "Chupinguaia                29.629630  26.888889\n",
       "Colorado do Oeste          34.354839  31.161290\n",
       "Corumbiara                 32.470588  29.000000\n",
       "Costa Marques              30.613636  25.250000\n",
       "Cujubim                    31.400000  27.400000\n",
       "Espigão D'Oeste            31.198113  26.808176\n",
       "Governador Jorge Teixeira  29.222222  25.555556\n",
       "Guajará-Mirim              30.470588  26.058824\n",
       "Itapuã do Oeste            42.500000  31.375000\n",
       "Jaru                       32.197183  28.450704\n",
       "Ji-Paraná                  31.132239  27.282819\n",
       "Machadinho D'Oeste         31.326923  26.048077\n",
       "Ministro Andreazza         33.849315  27.890411\n",
       "Mirante da Serra           32.154762  26.928571\n",
       "Monte Negro                34.678571  27.642857\n",
       "Município ignorado - RO    22.000000  24.000000\n",
       "Nova Brasilândia D'Oeste   30.520833  27.104167\n",
       "Nova Mamoré                31.692308  26.051282\n",
       "Nova União                 31.371429  27.371429\n",
       "Novo Horizonte do Oeste    31.588235  26.988235\n",
       "Ouro Preto do Oeste        31.233244  27.109920\n",
       "Parecis                    32.473684  26.973684\n",
       "Pimenta Bueno              29.745174  25.449807\n",
       "Pimenteiras do Oeste       35.600000  32.600000\n",
       "Porto Velho                32.352679  28.355655\n",
       "Presidente Médici          30.150754  26.170854\n",
       "Primavera de Rondônia      31.888889  28.083333\n",
       "Rio Crespo                 28.000000  26.000000\n",
       "Rolim de Moura             30.360479  26.549701\n",
       "Santa Luzia D'Oeste        30.703297  26.043956\n",
       "Seringueiras               30.500000  25.058824\n",
       "São Felipe D'Oeste         31.395833  26.979167\n",
       "São Francisco do Guaporé   31.638889  26.944444\n",
       "São Miguel do Guaporé      32.666667  27.469136\n",
       "Teixeirópolis              31.500000  27.454545\n",
       "Theobroma                  30.083333  24.916667\n",
       "Urupá                      31.008929  27.116071\n",
       "Vale do Anari              34.000000  27.133333\n",
       "Vale do Paraíso            29.976744  25.604651\n",
       "Vilhena                    34.152941  30.611765"
      ]
     },
     "execution_count": 9,
     "metadata": {},
     "output_type": "execute_result"
    }
   ],
   "source": [
    "sinasc_1 = sinasc_raw[['IDADEPAI', 'IDADEMAE','munResNome']]\n",
    "sinasc_1.dropna().groupby('munResNome').mean()"
   ]
  },
  {
   "cell_type": "markdown",
   "metadata": {},
   "source": [
    "### 2. Peso médio dos bebes por sexo que nasceram no dia do seu aniversário por faixas de escolaridade mae\n",
    "Ex: Você, aluna(o), nasceu no dia 10/01, então você precisa filtrar o conjunto de dados nessa data e calcular o peso médio dos bebês de cada sexo por faixa de escolaridade da mãe."
   ]
  },
  {
   "cell_type": "code",
   "execution_count": 59,
   "metadata": {},
   "outputs": [
    {
     "data": {
      "text/plain": [
       "<Axes: xlabel='ESCMAE'>"
      ]
     },
     "execution_count": 59,
     "metadata": {},
     "output_type": "execute_result"
    },
    {
     "data": {
      "image/png": "[encoded data removed]",
      "text/plain": [
       "<Figure size 640x480 with 1 Axes>"
      ]
     },
     "metadata": {},
     "output_type": "display_data"
    }
   ],
   "source": [
    "sinasc_2 = sinasc_raw[['DTNASC','PESO', 'ESCMAE']]\n",
    "sinasc_2.head()\n",
    "sinasc_2[sinasc_2['DTNASC'] == '2019-05-23'].groupby('ESCMAE')['PESO'].mean().sort_values().plot()\n",
    " "
   ]
  },
  {
   "cell_type": "markdown",
   "metadata": {},
   "source": [
    "### 3. Qual o municipio que nasceu menos bebe em 2019?\n",
    "    - qual a idade media, maxima, minima das maes nesse municipio?\n",
    "    - qual a idade media, maxima, minima dos pais nesse municipio?"
   ]
  },
  {
   "cell_type": "code",
   "execution_count": 40,
   "metadata": {},
   "outputs": [
    {
     "data": {
      "text/plain": [
       "munResNome\n",
       "Município ignorado - RO     1\n",
       "Castanheiras               32\n",
       "Name: IDADEMAE, dtype: int64"
      ]
     },
     "execution_count": 40,
     "metadata": {},
     "output_type": "execute_result"
    }
   ],
   "source": [
    "sinasc_1.groupby('munResNome')['IDADEMAE'].count().sort_values()[:2]"
   ]
  },
  {
   "cell_type": "code",
   "execution_count": 52,
   "metadata": {},
   "outputs": [
    {
     "name": "stderr",
     "output_type": "stream",
     "text": [
      "C:\\Users\\Junha\\AppData\\Local\\Temp\\ipykernel_15836\\1989367251.py:1: FutureWarning: Indexing with multiple keys (implicitly converted to a tuple of keys) will be deprecated, use a list instead.\n",
      "  sinasc_1[sinasc_1['munResNome'] == 'Castanheiras'\n"
     ]
    },
    {
     "data": {
      "text/html": [
       "<div>\n",
       "<style scoped>\n",
       "    .dataframe tbody tr th:only-of-type {\n",
       "        vertical-align: middle;\n",
       "    }\n",
       "\n",
       "    .dataframe tbody tr th {\n",
       "        vertical-align: top;\n",
       "    }\n",
       "\n",
       "    .dataframe thead tr th {\n",
       "        text-align: left;\n",
       "    }\n",
       "\n",
       "    .dataframe thead tr:last-of-type th {\n",
       "        text-align: right;\n",
       "    }\n",
       "</style>\n",
       "<table border=\"1\" class=\"dataframe\">\n",
       "  <thead>\n",
       "    <tr>\n",
       "      <th></th>\n",
       "      <th colspan=\"3\" halign=\"left\">IDADEMAE</th>\n",
       "      <th colspan=\"3\" halign=\"left\">IDADEPAI</th>\n",
       "    </tr>\n",
       "    <tr>\n",
       "      <th></th>\n",
       "      <th>min</th>\n",
       "      <th>mean</th>\n",
       "      <th>max</th>\n",
       "      <th>min</th>\n",
       "      <th>mean</th>\n",
       "      <th>max</th>\n",
       "    </tr>\n",
       "    <tr>\n",
       "      <th>munResNome</th>\n",
       "      <th></th>\n",
       "      <th></th>\n",
       "      <th></th>\n",
       "      <th></th>\n",
       "      <th></th>\n",
       "      <th></th>\n",
       "    </tr>\n",
       "  </thead>\n",
       "  <tbody>\n",
       "    <tr>\n",
       "      <th>Castanheiras</th>\n",
       "      <td>17</td>\n",
       "      <td>27.28125</td>\n",
       "      <td>39</td>\n",
       "      <td>17.0</td>\n",
       "      <td>30.392857</td>\n",
       "      <td>43.0</td>\n",
       "    </tr>\n",
       "  </tbody>\n",
       "</table>\n",
       "</div>"
      ],
      "text/plain": [
       "             IDADEMAE               IDADEPAI                 \n",
       "                  min      mean max      min       mean   max\n",
       "munResNome                                                   \n",
       "Castanheiras       17  27.28125  39     17.0  30.392857  43.0"
      ]
     },
     "execution_count": 52,
     "metadata": {},
     "output_type": "execute_result"
    }
   ],
   "source": [
    "sinasc_1[sinasc_1['munResNome'] == 'Castanheiras'\n",
    "        ].groupby('munResNome')['IDADEMAE','IDADEPAI'\n",
    "        ].aggregate(['min', 'mean', 'max'])"
   ]
  },
  {
   "cell_type": "markdown",
   "metadata": {},
   "source": [
    "### 4. Qual o municipio que nasceu mais bebe no mês de março?\n",
    "    - qual a quantidade de filhos vivos media, maxima, minima nesse municipio?\n",
    "    - qual a idade media, maxima, minima dos pais nesse municipio?\n",
    "\n"
   ]
  },
  {
   "cell_type": "code",
   "execution_count": 54,
   "metadata": {},
   "outputs": [
    {
     "data": {
      "text/plain": [
       "munResNome\n",
       "Porto Velho    8437\n",
       "Name: IDADEMAE, dtype: int64"
      ]
     },
     "execution_count": 54,
     "metadata": {},
     "output_type": "execute_result"
    }
   ],
   "source": [
    "sinasc_1.groupby('munResNome')['IDADEMAE'].count().sort_values(ascending=False)[:1]"
   ]
  },
  {
   "cell_type": "code",
   "execution_count": 55,
   "metadata": {},
   "outputs": [
    {
     "name": "stderr",
     "output_type": "stream",
     "text": [
      "C:\\Users\\Junha\\AppData\\Local\\Temp\\ipykernel_15836\\4263111630.py:1: FutureWarning: Indexing with multiple keys (implicitly converted to a tuple of keys) will be deprecated, use a list instead.\n",
      "  sinasc_1[sinasc_1['munResNome'] == 'Porto Velho'\n"
     ]
    },
    {
     "data": {
      "text/html": [
       "<div>\n",
       "<style scoped>\n",
       "    .dataframe tbody tr th:only-of-type {\n",
       "        vertical-align: middle;\n",
       "    }\n",
       "\n",
       "    .dataframe tbody tr th {\n",
       "        vertical-align: top;\n",
       "    }\n",
       "\n",
       "    .dataframe thead tr th {\n",
       "        text-align: left;\n",
       "    }\n",
       "\n",
       "    .dataframe thead tr:last-of-type th {\n",
       "        text-align: right;\n",
       "    }\n",
       "</style>\n",
       "<table border=\"1\" class=\"dataframe\">\n",
       "  <thead>\n",
       "    <tr>\n",
       "      <th></th>\n",
       "      <th colspan=\"3\" halign=\"left\">IDADEMAE</th>\n",
       "      <th colspan=\"3\" halign=\"left\">IDADEPAI</th>\n",
       "    </tr>\n",
       "    <tr>\n",
       "      <th></th>\n",
       "      <th>min</th>\n",
       "      <th>mean</th>\n",
       "      <th>max</th>\n",
       "      <th>min</th>\n",
       "      <th>mean</th>\n",
       "      <th>max</th>\n",
       "    </tr>\n",
       "    <tr>\n",
       "      <th>munResNome</th>\n",
       "      <th></th>\n",
       "      <th></th>\n",
       "      <th></th>\n",
       "      <th></th>\n",
       "      <th></th>\n",
       "      <th></th>\n",
       "    </tr>\n",
       "  </thead>\n",
       "  <tbody>\n",
       "    <tr>\n",
       "      <th>Porto Velho</th>\n",
       "      <td>12</td>\n",
       "      <td>26.31267</td>\n",
       "      <td>47</td>\n",
       "      <td>16.0</td>\n",
       "      <td>32.352679</td>\n",
       "      <td>65.0</td>\n",
       "    </tr>\n",
       "  </tbody>\n",
       "</table>\n",
       "</div>"
      ],
      "text/plain": [
       "            IDADEMAE               IDADEPAI                 \n",
       "                 min      mean max      min       mean   max\n",
       "munResNome                                                  \n",
       "Porto Velho       12  26.31267  47     16.0  32.352679  65.0"
      ]
     },
     "execution_count": 55,
     "metadata": {},
     "output_type": "execute_result"
    }
   ],
   "source": [
    "sinasc_1[sinasc_1['munResNome'] == 'Porto Velho'\n",
    "        ].groupby('munResNome')['IDADEMAE','IDADEPAI'\n",
    "        ].aggregate(['min', 'mean', 'max'])"
   ]
  },
  {
   "cell_type": "code",
   "execution_count": 82,
   "metadata": {},
   "outputs": [
    {
     "data": {
      "text/plain": [
       "18"
      ]
     },
     "execution_count": 82,
     "metadata": {},
     "output_type": "execute_result"
    }
   ],
   "source": [
    "65-47"
   ]
  },
  {
   "cell_type": "code",
   "execution_count": 71,
   "metadata": {},
   "outputs": [
    {
     "data": {
      "text/plain": [
       "<Axes: xlabel='RACACOR'>"
      ]
     },
     "execution_count": 71,
     "metadata": {},
     "output_type": "execute_result"
    },
    {
     "data": {
      "image/png": "[encoded data removed]",
      "text/plain": [
       "<Figure size 1500x500 with 1 Axes>"
      ]
     },
     "metadata": {},
     "output_type": "display_data"
    }
   ],
   "source": [
    "sinasc_raw.groupby(['RACACOR'])['PESO'].mean().sort_values().plot(figsize=[15,5])"
   ]
  },
  {
   "cell_type": "code",
   "execution_count": 72,
   "metadata": {},
   "outputs": [
    {
     "data": {
      "image/png": "[encoded data removed]",
      "text/plain": [
       "<Figure size 1500x500 with 1 Axes>"
      ]
     },
     "metadata": {},
     "output_type": "display_data"
    }
   ],
   "source": [
    "sinasc_raw.groupby(['RACACOR', 'SEXO'])['PESO'].mean().unstack().plot(figsize=[15,5]);"
   ]
  },
  {
   "cell_type": "code",
   "execution_count": 80,
   "metadata": {},
   "outputs": [
    {
     "data": {
      "text/plain": [
       "<Axes: xlabel='RACACOR'>"
      ]
     },
     "execution_count": 80,
     "metadata": {},
     "output_type": "execute_result"
    },
    {
     "data": {
      "image/png": "[encoded data removed]",
      "text/plain": [
       "<Figure size 1500x500 with 1 Axes>"
      ]
     },
     "metadata": {},
     "output_type": "display_data"
    }
   ],
   "source": [
    "sinasc_raw.groupby(['RACACOR','PARTO'])['IDADEMAE'].count().unstack().plot(figsize=[15,5])"
   ]
  },
  {
   "cell_type": "code",
   "execution_count": 81,
   "metadata": {},
   "outputs": [
    {
     "data": {
      "text/plain": [
       "RACACOR   PARTO  \n",
       "Amarela   Cesáreo       83\n",
       "          Vaginal       33\n",
       "Branca    Cesáreo     4232\n",
       "          Vaginal     1143\n",
       "Indígena  Cesáreo      137\n",
       "          Vaginal      280\n",
       "Parda     Cesáreo    12525\n",
       "          Vaginal     7035\n",
       "Preta     Cesáreo      587\n",
       "          Vaginal      278\n",
       "Name: IDADEMAE, dtype: int64"
      ]
     },
     "execution_count": 81,
     "metadata": {},
     "output_type": "execute_result"
    }
   ],
   "source": [
    "sinasc_raw.groupby(['RACACOR','PARTO'])['IDADEMAE'].count()"
   ]
  },
  {
   "cell_type": "code",
   "execution_count": 1,
   "metadata": {},
   "outputs": [
    {
     "data": {
      "text/plain": [
       "3.7025371828521436"
      ]
     },
     "execution_count": 1,
     "metadata": {},
     "output_type": "execute_result"
    }
   ],
   "source": [
    "4232/1143"
   ]
  },
  {
   "cell_type": "markdown",
   "metadata": {},
   "source": [
    "### Analise as respostas encontradas, tire algum insight delas, conte pra gente algo encontrado nos dados. Algo que você julgue relevante e novo pra você."
   ]
  },
  {
   "cell_type": "markdown",
   "metadata": {},
   "source": [
    "1 - Na tabela de médias de idade por município é possível verificar que a idade dos pais é maior do que das mães.\n",
    "\n",
    "2 -  Ao avaliar a base, as mães com mais tempo de estudo tiveram bebês com maior peso. No dia do meu aniversário, 23-05, esse padrão foi invertido. As mães com até 7 anos de estudo tiveram os bebês com maior peso.\n",
    "\n",
    "3 - No município que nasceu menos bebês, Castanheiras, a diferença entre a idade mínima, média e máxima dos pais e mães é pequena. Ao contrário, no município que nasceu mais bebês, Porto Velho, essa diferença é bem maior (Ex: a idade máxima das mães é de 47 anos e a dos pais é de 65, uma amplitude de 18 anos).\n",
    "\n",
    "Na análise extra, optei por avaliar o impacto da Raça nos bebês. No primeiro gráfio é possível verificar que os bebês de raça branca e amarela tem o maior peso. No segundo gráfico foi incluído o sexo para verificar se esse padrão teria alguma alteração e, no sexo feminino a raça indígena ultrapassa o peso dos bebês de raça branca.\n",
    "\n",
    "Por último, foi avaliado o tipo de parto em comparação com o tipo de raça. O parto do tipo Cesáreo é realizado na maioria das raças, exceto pelo Indígena. Na raça Branca, a que mais realiza parto Cesáreo, a quantidade de partos desse tipo é 3,7 vezes maior."
   ]
  },
  {
   "cell_type": "code",
   "execution_count": 6,
   "metadata": {},
   "outputs": [
    {
     "data": {
      "text/plain": [
       "ORIGEM          int64\n",
       "CODESTAB      float64\n",
       "CODMUNNASC      int64\n",
       "LOCNASC         int64\n",
       "IDADEMAE        int64\n",
       "               ...   \n",
       "munResUf       object\n",
       "munResLat     float64\n",
       "munResLon     float64\n",
       "munResAlt     float64\n",
       "munResArea    float64\n",
       "Length: 69, dtype: object"
      ]
     },
     "execution_count": 6,
     "metadata": {},
     "output_type": "execute_result"
    }
   ],
   "source": [
    "sinasc_raw.dtypes"
   ]
  },
  {
   "cell_type": "code",
   "execution_count": 7,
   "metadata": {},
   "outputs": [
    {
     "data": {
      "text/html": [
       "<div>\n",
       "<style scoped>\n",
       "    .dataframe tbody tr th:only-of-type {\n",
       "        vertical-align: middle;\n",
       "    }\n",
       "\n",
       "    .dataframe tbody tr th {\n",
       "        vertical-align: top;\n",
       "    }\n",
       "\n",
       "    .dataframe thead th {\n",
       "        text-align: right;\n",
       "    }\n",
       "</style>\n",
       "<table border=\"1\" class=\"dataframe\">\n",
       "  <thead>\n",
       "    <tr style=\"text-align: right;\">\n",
       "      <th></th>\n",
       "      <th>ESCMAE</th>\n",
       "      <th>GESTACAO</th>\n",
       "      <th>GRAVIDEZ</th>\n",
       "      <th>PARTO</th>\n",
       "      <th>DTNASC</th>\n",
       "      <th>SEXO</th>\n",
       "      <th>RACACOR</th>\n",
       "      <th>DTCADASTRO</th>\n",
       "      <th>CODANOMAL</th>\n",
       "      <th>VERSAOSIST</th>\n",
       "      <th>DTRECEBIM</th>\n",
       "      <th>munResStatus</th>\n",
       "      <th>munResTipo</th>\n",
       "      <th>munResNome</th>\n",
       "      <th>munResUf</th>\n",
       "    </tr>\n",
       "  </thead>\n",
       "  <tbody>\n",
       "    <tr>\n",
       "      <th>0</th>\n",
       "      <td>8 a 11 anos</td>\n",
       "      <td>37 a 41 semanas</td>\n",
       "      <td>Única</td>\n",
       "      <td>Cesáreo</td>\n",
       "      <td>2019-02-19</td>\n",
       "      <td>Masculino</td>\n",
       "      <td>Branca</td>\n",
       "      <td>2019-03-08</td>\n",
       "      <td>NaN</td>\n",
       "      <td>3.2.01</td>\n",
       "      <td>2019-03-08</td>\n",
       "      <td>ATIVO</td>\n",
       "      <td>MUNIC</td>\n",
       "      <td>Alta Floresta D'Oeste</td>\n",
       "      <td>Rondônia</td>\n",
       "    </tr>\n",
       "    <tr>\n",
       "      <th>1</th>\n",
       "      <td>8 a 11 anos</td>\n",
       "      <td>37 a 41 semanas</td>\n",
       "      <td>Única</td>\n",
       "      <td>Cesáreo</td>\n",
       "      <td>2019-02-21</td>\n",
       "      <td>Feminino</td>\n",
       "      <td>Branca</td>\n",
       "      <td>2019-03-08</td>\n",
       "      <td>NaN</td>\n",
       "      <td>3.2.01</td>\n",
       "      <td>2019-03-08</td>\n",
       "      <td>ATIVO</td>\n",
       "      <td>MUNIC</td>\n",
       "      <td>Alta Floresta D'Oeste</td>\n",
       "      <td>Rondônia</td>\n",
       "    </tr>\n",
       "    <tr>\n",
       "      <th>2</th>\n",
       "      <td>8 a 11 anos</td>\n",
       "      <td>37 a 41 semanas</td>\n",
       "      <td>Única</td>\n",
       "      <td>Cesáreo</td>\n",
       "      <td>2019-02-25</td>\n",
       "      <td>Feminino</td>\n",
       "      <td>Branca</td>\n",
       "      <td>2019-03-08</td>\n",
       "      <td>NaN</td>\n",
       "      <td>3.2.01</td>\n",
       "      <td>2019-03-08</td>\n",
       "      <td>ATIVO</td>\n",
       "      <td>MUNIC</td>\n",
       "      <td>Alta Floresta D'Oeste</td>\n",
       "      <td>Rondônia</td>\n",
       "    </tr>\n",
       "    <tr>\n",
       "      <th>3</th>\n",
       "      <td>12 anos ou mais</td>\n",
       "      <td>37 a 41 semanas</td>\n",
       "      <td>Única</td>\n",
       "      <td>Cesáreo</td>\n",
       "      <td>2019-03-20</td>\n",
       "      <td>Feminino</td>\n",
       "      <td>Parda</td>\n",
       "      <td>2019-04-03</td>\n",
       "      <td>NaN</td>\n",
       "      <td>3.2.01</td>\n",
       "      <td>2019-04-09</td>\n",
       "      <td>ATIVO</td>\n",
       "      <td>MUNIC</td>\n",
       "      <td>Alto Alegre dos Parecis</td>\n",
       "      <td>Rondônia</td>\n",
       "    </tr>\n",
       "    <tr>\n",
       "      <th>4</th>\n",
       "      <td>8 a 11 anos</td>\n",
       "      <td>37 a 41 semanas</td>\n",
       "      <td>Única</td>\n",
       "      <td>Cesáreo</td>\n",
       "      <td>2019-03-23</td>\n",
       "      <td>Feminino</td>\n",
       "      <td>Parda</td>\n",
       "      <td>2019-04-03</td>\n",
       "      <td>NaN</td>\n",
       "      <td>3.2.01</td>\n",
       "      <td>2019-04-09</td>\n",
       "      <td>ATIVO</td>\n",
       "      <td>MUNIC</td>\n",
       "      <td>Alta Floresta D'Oeste</td>\n",
       "      <td>Rondônia</td>\n",
       "    </tr>\n",
       "    <tr>\n",
       "      <th>...</th>\n",
       "      <td>...</td>\n",
       "      <td>...</td>\n",
       "      <td>...</td>\n",
       "      <td>...</td>\n",
       "      <td>...</td>\n",
       "      <td>...</td>\n",
       "      <td>...</td>\n",
       "      <td>...</td>\n",
       "      <td>...</td>\n",
       "      <td>...</td>\n",
       "      <td>...</td>\n",
       "      <td>...</td>\n",
       "      <td>...</td>\n",
       "      <td>...</td>\n",
       "      <td>...</td>\n",
       "    </tr>\n",
       "    <tr>\n",
       "      <th>27023</th>\n",
       "      <td>12 anos ou mais</td>\n",
       "      <td>32 a 36 semanas</td>\n",
       "      <td>Única</td>\n",
       "      <td>Cesáreo</td>\n",
       "      <td>2019-12-13</td>\n",
       "      <td>Masculino</td>\n",
       "      <td>Branca</td>\n",
       "      <td>2020-09-28</td>\n",
       "      <td>NaN</td>\n",
       "      <td>3.2.01</td>\n",
       "      <td>2020-10-13</td>\n",
       "      <td>ATIVO</td>\n",
       "      <td>MUNIC</td>\n",
       "      <td>Vilhena</td>\n",
       "      <td>Rondônia</td>\n",
       "    </tr>\n",
       "    <tr>\n",
       "      <th>27024</th>\n",
       "      <td>8 a 11 anos</td>\n",
       "      <td>37 a 41 semanas</td>\n",
       "      <td>Única</td>\n",
       "      <td>Vaginal</td>\n",
       "      <td>2019-10-04</td>\n",
       "      <td>Masculino</td>\n",
       "      <td>Branca</td>\n",
       "      <td>2019-10-16</td>\n",
       "      <td>NaN</td>\n",
       "      <td>3.2.01</td>\n",
       "      <td>2019-10-21</td>\n",
       "      <td>ATIVO</td>\n",
       "      <td>MUNIC</td>\n",
       "      <td>Chupinguaia</td>\n",
       "      <td>Rondônia</td>\n",
       "    </tr>\n",
       "    <tr>\n",
       "      <th>27025</th>\n",
       "      <td>8 a 11 anos</td>\n",
       "      <td>37 a 41 semanas</td>\n",
       "      <td>Única</td>\n",
       "      <td>Cesáreo</td>\n",
       "      <td>2019-08-02</td>\n",
       "      <td>Masculino</td>\n",
       "      <td>Parda</td>\n",
       "      <td>2019-08-07</td>\n",
       "      <td>NaN</td>\n",
       "      <td>3.2.00</td>\n",
       "      <td>2019-08-07</td>\n",
       "      <td>ATIVO</td>\n",
       "      <td>MUNIC</td>\n",
       "      <td>Vilhena</td>\n",
       "      <td>Rondônia</td>\n",
       "    </tr>\n",
       "    <tr>\n",
       "      <th>27026</th>\n",
       "      <td>8 a 11 anos</td>\n",
       "      <td>32 a 36 semanas</td>\n",
       "      <td>Única</td>\n",
       "      <td>Vaginal</td>\n",
       "      <td>2019-12-23</td>\n",
       "      <td>Masculino</td>\n",
       "      <td>Parda</td>\n",
       "      <td>2020-01-07</td>\n",
       "      <td>NaN</td>\n",
       "      <td>3.2.00</td>\n",
       "      <td>2020-01-07</td>\n",
       "      <td>ATIVO</td>\n",
       "      <td>MUNIC</td>\n",
       "      <td>Vilhena</td>\n",
       "      <td>Rondônia</td>\n",
       "    </tr>\n",
       "    <tr>\n",
       "      <th>27027</th>\n",
       "      <td>8 a 11 anos</td>\n",
       "      <td>37 a 41 semanas</td>\n",
       "      <td>Única</td>\n",
       "      <td>Cesáreo</td>\n",
       "      <td>2019-12-27</td>\n",
       "      <td>Masculino</td>\n",
       "      <td>Parda</td>\n",
       "      <td>2020-10-15</td>\n",
       "      <td>NaN</td>\n",
       "      <td>3.2.01</td>\n",
       "      <td>2020-10-16</td>\n",
       "      <td>ATIVO</td>\n",
       "      <td>MUNIC</td>\n",
       "      <td>Novo Horizonte do Oeste</td>\n",
       "      <td>Rondônia</td>\n",
       "    </tr>\n",
       "  </tbody>\n",
       "</table>\n",
       "<p>27028 rows × 15 columns</p>\n",
       "</div>"
      ],
      "text/plain": [
       "                ESCMAE         GESTACAO GRAVIDEZ    PARTO      DTNASC  \\\n",
       "0          8 a 11 anos  37 a 41 semanas    Única  Cesáreo  2019-02-19   \n",
       "1          8 a 11 anos  37 a 41 semanas    Única  Cesáreo  2019-02-21   \n",
       "2          8 a 11 anos  37 a 41 semanas    Única  Cesáreo  2019-02-25   \n",
       "3      12 anos ou mais  37 a 41 semanas    Única  Cesáreo  2019-03-20   \n",
       "4          8 a 11 anos  37 a 41 semanas    Única  Cesáreo  2019-03-23   \n",
       "...                ...              ...      ...      ...         ...   \n",
       "27023  12 anos ou mais  32 a 36 semanas    Única  Cesáreo  2019-12-13   \n",
       "27024      8 a 11 anos  37 a 41 semanas    Única  Vaginal  2019-10-04   \n",
       "27025      8 a 11 anos  37 a 41 semanas    Única  Cesáreo  2019-08-02   \n",
       "27026      8 a 11 anos  32 a 36 semanas    Única  Vaginal  2019-12-23   \n",
       "27027      8 a 11 anos  37 a 41 semanas    Única  Cesáreo  2019-12-27   \n",
       "\n",
       "            SEXO RACACOR  DTCADASTRO CODANOMAL VERSAOSIST   DTRECEBIM  \\\n",
       "0      Masculino  Branca  2019-03-08       NaN     3.2.01  2019-03-08   \n",
       "1       Feminino  Branca  2019-03-08       NaN     3.2.01  2019-03-08   \n",
       "2       Feminino  Branca  2019-03-08       NaN     3.2.01  2019-03-08   \n",
       "3       Feminino   Parda  2019-04-03       NaN     3.2.01  2019-04-09   \n",
       "4       Feminino   Parda  2019-04-03       NaN     3.2.01  2019-04-09   \n",
       "...          ...     ...         ...       ...        ...         ...   \n",
       "27023  Masculino  Branca  2020-09-28       NaN     3.2.01  2020-10-13   \n",
       "27024  Masculino  Branca  2019-10-16       NaN     3.2.01  2019-10-21   \n",
       "27025  Masculino   Parda  2019-08-07       NaN     3.2.00  2019-08-07   \n",
       "27026  Masculino   Parda  2020-01-07       NaN     3.2.00  2020-01-07   \n",
       "27027  Masculino   Parda  2020-10-15       NaN     3.2.01  2020-10-16   \n",
       "\n",
       "      munResStatus munResTipo               munResNome  munResUf  \n",
       "0            ATIVO      MUNIC    Alta Floresta D'Oeste  Rondônia  \n",
       "1            ATIVO      MUNIC    Alta Floresta D'Oeste  Rondônia  \n",
       "2            ATIVO      MUNIC    Alta Floresta D'Oeste  Rondônia  \n",
       "3            ATIVO      MUNIC  Alto Alegre dos Parecis  Rondônia  \n",
       "4            ATIVO      MUNIC    Alta Floresta D'Oeste  Rondônia  \n",
       "...            ...        ...                      ...       ...  \n",
       "27023        ATIVO      MUNIC                  Vilhena  Rondônia  \n",
       "27024        ATIVO      MUNIC              Chupinguaia  Rondônia  \n",
       "27025        ATIVO      MUNIC                  Vilhena  Rondônia  \n",
       "27026        ATIVO      MUNIC                  Vilhena  Rondônia  \n",
       "27027        ATIVO      MUNIC  Novo Horizonte do Oeste  Rondônia  \n",
       "\n",
       "[27028 rows x 15 columns]"
      ]
     },
     "execution_count": 7,
     "metadata": {},
     "output_type": "execute_result"
    }
   ],
   "source": [
    "sinasc_raw.select_dtypes(exclude=['int64','float64'])"
   ]
  },
  {
   "cell_type": "code",
   "execution_count": 4,
   "metadata": {},
   "outputs": [
    {
     "data": {
      "text/plain": [
       "Index(['ORIGEM', 'CODESTAB', 'CODMUNNASC', 'LOCNASC', 'IDADEMAE', 'ESTCIVMAE',\n",
       "       'ESCMAE', 'CODOCUPMAE', 'QTDFILVIVO', 'QTDFILMORT', 'CODMUNRES',\n",
       "       'GESTACAO', 'GRAVIDEZ', 'PARTO', 'CONSULTAS', 'DTNASC', 'HORANASC',\n",
       "       'SEXO', 'APGAR1', 'APGAR5', 'RACACOR', 'PESO', 'IDANOMAL', 'DTCADASTRO',\n",
       "       'CODANOMAL', 'NUMEROLOTE', 'VERSAOSIST', 'DTRECEBIM', 'DIFDATA',\n",
       "       'DTRECORIGA', 'NATURALMAE', 'CODMUNNATU', 'CODUFNATU', 'ESCMAE2010',\n",
       "       'SERIESCMAE', 'DTNASCMAE', 'RACACORMAE', 'QTDGESTANT', 'QTDPARTNOR',\n",
       "       'QTDPARTCES', 'IDADEPAI', 'DTULTMENST', 'SEMAGESTAC', 'TPMETESTIM',\n",
       "       'CONSPRENAT', 'MESPRENAT', 'TPAPRESENT', 'STTRABPART', 'STCESPARTO',\n",
       "       'TPNASCASSI', 'TPFUNCRESP', 'TPDOCRESP', 'DTDECLARAC', 'ESCMAEAGR1',\n",
       "       'STDNEPIDEM', 'STDNNOVA', 'CODPAISRES', 'TPROBSON', 'PARIDADE',\n",
       "       'KOTELCHUCK', 'CONTADOR', 'munResStatus', 'munResTipo', 'munResNome',\n",
       "       'munResUf', 'munResLat', 'munResLon', 'munResAlt', 'munResArea'],\n",
       "      dtype='object')"
      ]
     },
     "execution_count": 4,
     "metadata": {},
     "output_type": "execute_result"
    }
   ],
   "source": [
    "sinasc_raw.columns"
   ]
  }
 ],
 "metadata": {
  "kernelspec": {
   "display_name": "Python 3 (ipykernel)",
   "language": "python",
   "name": "python3"
  },
  "language_info": {
   "codemirror_mode": {
    "name": "ipython",
    "version": 3
   },
   "file_extension": ".py",
   "mimetype": "text/x-python",
   "name": "python",
   "nbconvert_exporter": "python",
   "pygments_lexer": "ipython3",
   "version": "3.10.9"
  },
  "varInspector": {
   "cols": {
    "lenName": 16,
    "lenType": 16,
    "lenVar": 40
   },
   "kernels_config": {
    "python": {
     "delete_cmd_postfix": "",
     "delete_cmd_prefix": "del ",
     "library": "var_list.py",
     "varRefreshCmd": "print(var_dic_list())"
    },
    "r": {
     "delete_cmd_postfix": ") ",
     "delete_cmd_prefix": "rm(",
     "library": "var_list.r",
     "varRefreshCmd": "cat(var_dic_list()) "
    }
   },
   "types_to_exclude": [
    "module",
    "function",
    "builtin_function_or_method",
    "instance",
    "_Feature"
   ],
   "window_display": false
  }
 },
 "nbformat": 4,
 "nbformat_minor": 4
}
